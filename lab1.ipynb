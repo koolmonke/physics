{
 "cells": [
  {
   "cell_type": "code",
   "execution_count": 1,
   "id": "243a1126-36fa-4016-8bfb-c17fdfc0c9b4",
   "metadata": {},
   "outputs": [],
   "source": [
    "import pandas as pd"
   ]
  },
  {
   "cell_type": "code",
   "execution_count": 2,
   "id": "62ad395a-40c6-4281-b87e-86d048d52980",
   "metadata": {},
   "outputs": [
    {
     "data": {
      "text/plain": "   $x_i$  $y_i$  $z_i$\n0   11.0   18.1   42.2\n1   11.1   18.3   42.3\n2   11.0   18.1   42.2\n3   11.1   18.3   42.3\n4   11.0   18.1   42.2",
      "text/html": "<div>\n<style scoped>\n    .dataframe tbody tr th:only-of-type {\n        vertical-align: middle;\n    }\n\n    .dataframe tbody tr th {\n        vertical-align: top;\n    }\n\n    .dataframe thead th {\n        text-align: right;\n    }\n</style>\n<table border=\"1\" class=\"dataframe\">\n  <thead>\n    <tr style=\"text-align: right;\">\n      <th></th>\n      <th>$x_i$</th>\n      <th>$y_i$</th>\n      <th>$z_i$</th>\n    </tr>\n  </thead>\n  <tbody>\n    <tr>\n      <th>0</th>\n      <td>11.0</td>\n      <td>18.1</td>\n      <td>42.2</td>\n    </tr>\n    <tr>\n      <th>1</th>\n      <td>11.1</td>\n      <td>18.3</td>\n      <td>42.3</td>\n    </tr>\n    <tr>\n      <th>2</th>\n      <td>11.0</td>\n      <td>18.1</td>\n      <td>42.2</td>\n    </tr>\n    <tr>\n      <th>3</th>\n      <td>11.1</td>\n      <td>18.3</td>\n      <td>42.3</td>\n    </tr>\n    <tr>\n      <th>4</th>\n      <td>11.0</td>\n      <td>18.1</td>\n      <td>42.2</td>\n    </tr>\n  </tbody>\n</table>\n</div>"
     },
     "execution_count": 2,
     "metadata": {},
     "output_type": "execute_result"
    }
   ],
   "source": [
    "table = pd.DataFrame({\"$x_i$\": [11.0, 11.1, 11.0, 11.1, 11.0], \"$y_i$\": [18.1, 18.3, 18.1, 18.3, 18.1],\n",
    "                      \"$z_i$\": [42.2, 42.3, 42.2, 42.3, 42.2]})\n",
    "\n",
    "table"
   ]
  },
  {
   "cell_type": "code",
   "execution_count": 3,
   "id": "18246e30-dce9-4cbf-b4e4-1f7cab195937",
   "metadata": {},
   "outputs": [
    {
     "data": {
      "text/plain": "   $x_i$  $y_i$  $z_i$  $Δx_i$  $Δy_i$  $Δz_i$  $Δx_i^2$  $Δy_i^2$  $Δz_i^2$\n0   11.0   18.1   42.2    0.04    0.08    0.04    0.0016    0.0064    0.0016\n1   11.1   18.3   42.3   -0.06   -0.12   -0.06    0.0036    0.0144    0.0036\n2   11.0   18.1   42.2    0.04    0.08    0.04    0.0016    0.0064    0.0016\n3   11.1   18.3   42.3   -0.06   -0.12   -0.06    0.0036    0.0144    0.0036\n4   11.0   18.1   42.2    0.04    0.08    0.04    0.0016    0.0064    0.0016",
      "text/html": "<div>\n<style scoped>\n    .dataframe tbody tr th:only-of-type {\n        vertical-align: middle;\n    }\n\n    .dataframe tbody tr th {\n        vertical-align: top;\n    }\n\n    .dataframe thead th {\n        text-align: right;\n    }\n</style>\n<table border=\"1\" class=\"dataframe\">\n  <thead>\n    <tr style=\"text-align: right;\">\n      <th></th>\n      <th>$x_i$</th>\n      <th>$y_i$</th>\n      <th>$z_i$</th>\n      <th>$Δx_i$</th>\n      <th>$Δy_i$</th>\n      <th>$Δz_i$</th>\n      <th>$Δx_i^2$</th>\n      <th>$Δy_i^2$</th>\n      <th>$Δz_i^2$</th>\n    </tr>\n  </thead>\n  <tbody>\n    <tr>\n      <th>0</th>\n      <td>11.0</td>\n      <td>18.1</td>\n      <td>42.2</td>\n      <td>0.04</td>\n      <td>0.08</td>\n      <td>0.04</td>\n      <td>0.0016</td>\n      <td>0.0064</td>\n      <td>0.0016</td>\n    </tr>\n    <tr>\n      <th>1</th>\n      <td>11.1</td>\n      <td>18.3</td>\n      <td>42.3</td>\n      <td>-0.06</td>\n      <td>-0.12</td>\n      <td>-0.06</td>\n      <td>0.0036</td>\n      <td>0.0144</td>\n      <td>0.0036</td>\n    </tr>\n    <tr>\n      <th>2</th>\n      <td>11.0</td>\n      <td>18.1</td>\n      <td>42.2</td>\n      <td>0.04</td>\n      <td>0.08</td>\n      <td>0.04</td>\n      <td>0.0016</td>\n      <td>0.0064</td>\n      <td>0.0016</td>\n    </tr>\n    <tr>\n      <th>3</th>\n      <td>11.1</td>\n      <td>18.3</td>\n      <td>42.3</td>\n      <td>-0.06</td>\n      <td>-0.12</td>\n      <td>-0.06</td>\n      <td>0.0036</td>\n      <td>0.0144</td>\n      <td>0.0036</td>\n    </tr>\n    <tr>\n      <th>4</th>\n      <td>11.0</td>\n      <td>18.1</td>\n      <td>42.2</td>\n      <td>0.04</td>\n      <td>0.08</td>\n      <td>0.04</td>\n      <td>0.0016</td>\n      <td>0.0064</td>\n      <td>0.0016</td>\n    </tr>\n  </tbody>\n</table>\n</div>"
     },
     "execution_count": 3,
     "metadata": {},
     "output_type": "execute_result"
    }
   ],
   "source": [
    "def calc_delta(row):\n",
    "    return table[row].apply(lambda x: table[row].mean() - x)\n",
    "\n",
    "\n",
    "def calc_delta_sqr(row):\n",
    "    return table[row].apply(lambda x: (table[row].mean() - x) ** 2)\n",
    "\n",
    "\n",
    "table[\"$Δx_i$\"] = calc_delta(\"$x_i$\")\n",
    "\n",
    "table[\"$Δy_i$\"] = calc_delta(\"$y_i$\")\n",
    "\n",
    "table[\"$Δz_i$\"] = calc_delta(\"$z_i$\")\n",
    "\n",
    "table[\"$Δx_i^2$\"] = calc_delta_sqr(\"$x_i$\")\n",
    "\n",
    "table[\"$Δy_i^2$\"] = calc_delta_sqr(\"$y_i$\")\n",
    "\n",
    "table[\"$Δz_i^2$\"] = calc_delta_sqr(\"$z_i$\")\n",
    "\n",
    "table"
   ]
  },
  {
   "cell_type": "code",
   "execution_count": 4,
   "id": "ab53fb6e-fd6e-4a42-abca-60bec4262aec",
   "metadata": {},
   "outputs": [
    {
     "data": {
      "text/plain": "0.011999999999999914"
     },
     "execution_count": 4,
     "metadata": {},
     "output_type": "execute_result"
    }
   ],
   "source": [
    "table[\"$Δx_i^2$\"].sum()"
   ]
  },
  {
   "cell_type": "code",
   "execution_count": 5,
   "id": "da4f22e6-d365-4c8b-9c3f-c72b283b5977",
   "metadata": {},
   "outputs": [
    {
     "data": {
      "text/plain": "0.047999999999999654"
     },
     "execution_count": 5,
     "metadata": {},
     "output_type": "execute_result"
    }
   ],
   "source": [
    "table[\"$Δy_i^2$\"].sum()"
   ]
  },
  {
   "cell_type": "code",
   "execution_count": 6,
   "id": "0a74ce4f-6f76-4a8b-aa01-6c704b7d80fc",
   "metadata": {},
   "outputs": [
    {
     "data": {
      "text/plain": "0.011999999999998637"
     },
     "execution_count": 6,
     "metadata": {},
     "output_type": "execute_result"
    }
   ],
   "source": [
    "table[\"$Δz_i^2$\"].sum()"
   ]
  },
  {
   "cell_type": "code",
   "execution_count": 7,
   "id": "1f9ca55f-a898-471c-9fcb-3277042f05da",
   "metadata": {},
   "outputs": [
    {
     "data": {
      "text/plain": "0.0005999999999999957"
     },
     "execution_count": 7,
     "metadata": {},
     "output_type": "execute_result"
    }
   ],
   "source": [
    "table[\"$Δx_i^2$\"].sum()/(len(table[\"$Δx_i^2$\"])*(len(table[\"$Δx_i^2$\"])-1))"
   ]
  },
  {
   "cell_type": "code",
   "execution_count": 8,
   "id": "173de3c8-137c-461b-9b63-18f594698678",
   "metadata": {},
   "outputs": [
    {
     "data": {
      "text/plain": "0.002399999999999983"
     },
     "execution_count": 8,
     "metadata": {},
     "output_type": "execute_result"
    }
   ],
   "source": [
    "table[\"$Δy_i^2$\"].sum()/(len(table[\"$Δy_i^2$\"])*(len(table[\"$Δy_i^2$\"])-1))"
   ]
  },
  {
   "cell_type": "code",
   "execution_count": 9,
   "id": "b1994b83-d3f0-4867-9278-d70278b5de99",
   "metadata": {},
   "outputs": [
    {
     "data": {
      "text/plain": "0.0005999999999999319"
     },
     "execution_count": 9,
     "metadata": {},
     "output_type": "execute_result"
    }
   ],
   "source": [
    "table[\"$Δz_i^2$\"].sum()/(len(table[\"$Δz_i^2$\"])*(len(table[\"$Δz_i^2$\"])-1))"
   ]
  }
 ],
 "metadata": {
  "kernelspec": {
   "display_name": "Python 3 (ipykernel)",
   "language": "python",
   "name": "python3"
  },
  "language_info": {
   "codemirror_mode": {
    "name": "ipython",
    "version": 3
   },
   "file_extension": ".py",
   "mimetype": "text/x-python",
   "name": "python",
   "nbconvert_exporter": "python",
   "pygments_lexer": "ipython3",
   "version": "3.9.5"
  }
 },
 "nbformat": 4,
 "nbformat_minor": 5
}