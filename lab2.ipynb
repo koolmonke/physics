{
 "cells": [
  {
   "cell_type": "code",
   "execution_count": 1,
   "outputs": [],
   "source": [
    "import pandas as pd"
   ],
   "metadata": {
    "collapsed": false,
    "pycharm": {
     "name": "#%%\n"
    }
   }
  },
  {
   "cell_type": "code",
   "execution_count": 2,
   "outputs": [
    {
     "data": {
      "text/plain": "   $D_i$  $H_i$\n0  10.81  20.14\n1  10.82  20.13\n2  10.81  20.14\n3  10.82  20.13\n4  10.81  20.14",
      "text/html": "<div>\n<style scoped>\n    .dataframe tbody tr th:only-of-type {\n        vertical-align: middle;\n    }\n\n    .dataframe tbody tr th {\n        vertical-align: top;\n    }\n\n    .dataframe thead th {\n        text-align: right;\n    }\n</style>\n<table border=\"1\" class=\"dataframe\">\n  <thead>\n    <tr style=\"text-align: right;\">\n      <th></th>\n      <th>$D_i$</th>\n      <th>$H_i$</th>\n    </tr>\n  </thead>\n  <tbody>\n    <tr>\n      <th>0</th>\n      <td>10.81</td>\n      <td>20.14</td>\n    </tr>\n    <tr>\n      <th>1</th>\n      <td>10.82</td>\n      <td>20.13</td>\n    </tr>\n    <tr>\n      <th>2</th>\n      <td>10.81</td>\n      <td>20.14</td>\n    </tr>\n    <tr>\n      <th>3</th>\n      <td>10.82</td>\n      <td>20.13</td>\n    </tr>\n    <tr>\n      <th>4</th>\n      <td>10.81</td>\n      <td>20.14</td>\n    </tr>\n  </tbody>\n</table>\n</div>"
     },
     "execution_count": 2,
     "metadata": {},
     "output_type": "execute_result"
    }
   ],
   "source": [
    "table = pd.DataFrame({\"$D_i$\": [10.81, 10.82, 10.81, 10.82, 10.81], \"$H_i$\": [20.14, 20.13, 20.14, 20.13, 20.14]})\n",
    "\n",
    "table"
   ],
   "metadata": {
    "collapsed": false,
    "pycharm": {
     "name": "#%%\n"
    }
   }
  },
  {
   "cell_type": "code",
   "execution_count": 3,
   "outputs": [
    {
     "data": {
      "text/plain": "   $D_i$  $H_i$  $ΔD_i$  $ΔH_i$  $ΔD_i^2$  $ΔH_i^2$\n0  10.81  20.14   0.004  -0.004  0.000016  0.000016\n1  10.82  20.13  -0.006   0.006  0.000036  0.000036\n2  10.81  20.14   0.004  -0.004  0.000016  0.000016\n3  10.82  20.13  -0.006   0.006  0.000036  0.000036\n4  10.81  20.14   0.004  -0.004  0.000016  0.000016",
      "text/html": "<div>\n<style scoped>\n    .dataframe tbody tr th:only-of-type {\n        vertical-align: middle;\n    }\n\n    .dataframe tbody tr th {\n        vertical-align: top;\n    }\n\n    .dataframe thead th {\n        text-align: right;\n    }\n</style>\n<table border=\"1\" class=\"dataframe\">\n  <thead>\n    <tr style=\"text-align: right;\">\n      <th></th>\n      <th>$D_i$</th>\n      <th>$H_i$</th>\n      <th>$ΔD_i$</th>\n      <th>$ΔH_i$</th>\n      <th>$ΔD_i^2$</th>\n      <th>$ΔH_i^2$</th>\n    </tr>\n  </thead>\n  <tbody>\n    <tr>\n      <th>0</th>\n      <td>10.81</td>\n      <td>20.14</td>\n      <td>0.004</td>\n      <td>-0.004</td>\n      <td>0.000016</td>\n      <td>0.000016</td>\n    </tr>\n    <tr>\n      <th>1</th>\n      <td>10.82</td>\n      <td>20.13</td>\n      <td>-0.006</td>\n      <td>0.006</td>\n      <td>0.000036</td>\n      <td>0.000036</td>\n    </tr>\n    <tr>\n      <th>2</th>\n      <td>10.81</td>\n      <td>20.14</td>\n      <td>0.004</td>\n      <td>-0.004</td>\n      <td>0.000016</td>\n      <td>0.000016</td>\n    </tr>\n    <tr>\n      <th>3</th>\n      <td>10.82</td>\n      <td>20.13</td>\n      <td>-0.006</td>\n      <td>0.006</td>\n      <td>0.000036</td>\n      <td>0.000036</td>\n    </tr>\n    <tr>\n      <th>4</th>\n      <td>10.81</td>\n      <td>20.14</td>\n      <td>0.004</td>\n      <td>-0.004</td>\n      <td>0.000016</td>\n      <td>0.000016</td>\n    </tr>\n  </tbody>\n</table>\n</div>"
     },
     "execution_count": 3,
     "metadata": {},
     "output_type": "execute_result"
    }
   ],
   "source": [
    "def calc_delta(row):\n",
    "    return table[row].apply(lambda x: table[row].mean() - x)\n",
    "\n",
    "\n",
    "def calc_delta_sqr(row):\n",
    "    return table[row].apply(lambda x: (table[row].mean() - x) ** 2)\n",
    "\n",
    "\n",
    "table[\"$ΔD_i$\"] = calc_delta(\"$D_i$\")\n",
    "\n",
    "table[\"$ΔH_i$\"] = calc_delta(\"$H_i$\")\n",
    "\n",
    "table[\"$ΔD_i^2$\"] = calc_delta_sqr(\"$D_i$\")\n",
    "\n",
    "table[\"$ΔH_i^2$\"] = calc_delta_sqr(\"$H_i$\")\n",
    "\n",
    "\n",
    "table"
   ],
   "metadata": {
    "collapsed": false,
    "pycharm": {
     "name": "#%%\n"
    }
   }
  },
  {
   "cell_type": "code",
   "execution_count": 4,
   "outputs": [
    {
     "data": {
      "text/plain": "0.0001199999999999949"
     },
     "execution_count": 4,
     "metadata": {},
     "output_type": "execute_result"
    }
   ],
   "source": [
    "table[\"$ΔD_i^2$\"].sum()"
   ],
   "metadata": {
    "collapsed": false,
    "pycharm": {
     "name": "#%%\n"
    }
   }
  },
  {
   "cell_type": "code",
   "execution_count": 5,
   "outputs": [
    {
     "data": {
      "text/plain": "0.00012000000000003753"
     },
     "execution_count": 5,
     "metadata": {},
     "output_type": "execute_result"
    }
   ],
   "source": [
    "table[\"$ΔH_i^2$\"].sum()"
   ],
   "metadata": {
    "collapsed": false,
    "pycharm": {
     "name": "#%%\n"
    }
   }
  },
  {
   "cell_type": "code",
   "execution_count": 6,
   "outputs": [
    {
     "data": {
      "text/plain": "5.999999999999744e-06"
     },
     "execution_count": 6,
     "metadata": {},
     "output_type": "execute_result"
    }
   ],
   "source": [
    "table[\"$ΔD_i^2$\"].sum()/(len(table[\"$ΔD_i^2$\"])*(len(table[\"$ΔD_i^2$\"])-1))"
   ],
   "metadata": {
    "collapsed": false,
    "pycharm": {
     "name": "#%%\n"
    }
   }
  },
  {
   "cell_type": "code",
   "execution_count": 7,
   "outputs": [
    {
     "data": {
      "text/plain": "6.000000000001876e-06"
     },
     "execution_count": 7,
     "metadata": {},
     "output_type": "execute_result"
    }
   ],
   "source": [
    "table[\"$ΔH_i^2$\"].sum()/(len(table[\"$ΔH_i^2$\"])*(len(table[\"$ΔH_i^2$\"])-1))"
   ],
   "metadata": {
    "collapsed": false,
    "pycharm": {
     "name": "#%%\n"
    }
   }
  }
 ],
 "metadata": {
  "kernelspec": {
   "display_name": "Python 3",
   "language": "python",
   "name": "python3"
  },
  "language_info": {
   "codemirror_mode": {
    "name": "ipython",
    "version": 2
   },
   "file_extension": ".py",
   "mimetype": "text/x-python",
   "name": "python",
   "nbconvert_exporter": "python",
   "pygments_lexer": "ipython2",
   "version": "2.7.6"
  }
 },
 "nbformat": 4,
 "nbformat_minor": 0
}